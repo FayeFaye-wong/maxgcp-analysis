{
 "cells": [
  {
   "cell_type": "code",
   "execution_count": 1,
   "id": "884e72d6-5af8-4c36-8b9b-25628bf9e7d3",
   "metadata": {},
   "outputs": [
    {
     "name": "stderr",
     "output_type": "stream",
     "text": [
      "── \u001b[1mAttaching core tidyverse packages\u001b[22m ───────────────────────────────────────────────────────────────────────────────────── tidyverse 2.0.0 ──\n",
      "\u001b[32m✔\u001b[39m \u001b[34mdplyr    \u001b[39m 1.1.4     \u001b[32m✔\u001b[39m \u001b[34mreadr    \u001b[39m 2.1.5\n",
      "\u001b[32m✔\u001b[39m \u001b[34mforcats  \u001b[39m 1.0.0     \u001b[32m✔\u001b[39m \u001b[34mstringr  \u001b[39m 1.5.1\n",
      "\u001b[32m✔\u001b[39m \u001b[34mggplot2  \u001b[39m 3.5.0     \u001b[32m✔\u001b[39m \u001b[34mtibble   \u001b[39m 3.2.1\n",
      "\u001b[32m✔\u001b[39m \u001b[34mlubridate\u001b[39m 1.9.3     \u001b[32m✔\u001b[39m \u001b[34mtidyr    \u001b[39m 1.3.1\n",
      "\u001b[32m✔\u001b[39m \u001b[34mpurrr    \u001b[39m 1.0.2     \n",
      "── \u001b[1mConflicts\u001b[22m ─────────────────────────────────────────────────────────────────────────────────────────────────────── tidyverse_conflicts() ──\n",
      "\u001b[31m✖\u001b[39m \u001b[34mdplyr\u001b[39m::\u001b[32mfilter()\u001b[39m masks \u001b[34mstats\u001b[39m::filter()\n",
      "\u001b[31m✖\u001b[39m \u001b[34mdplyr\u001b[39m::\u001b[32mlag()\u001b[39m    masks \u001b[34mstats\u001b[39m::lag()\n",
      "\u001b[36mℹ\u001b[39m Use the conflicted package (\u001b[3m\u001b[34m<http://conflicted.r-lib.org/>\u001b[39m\u001b[23m) to force all conflicts to become errors\n"
     ]
    }
   ],
   "source": [
    "library(tidyverse)\n",
    "library(corrr)"
   ]
  },
  {
   "cell_type": "markdown",
   "id": "ca500ad4-10f0-42e9-aea1-60a73f6dcd35",
   "metadata": {},
   "source": [
    "# Real data\n",
    "\n",
    "## Phenotypic correlation"
   ]
  },
  {
   "cell_type": "code",
   "execution_count": 2,
   "id": "3de13454-7799-4820-8835-138fbb78a139",
   "metadata": {},
   "outputs": [
    {
     "name": "stderr",
     "output_type": "stream",
     "text": [
      "Correlation computed with\n",
      "\u001b[36m•\u001b[39m Method: 'pearson'\n",
      "\u001b[36m•\u001b[39m Missing treated using: 'pairwise.complete.obs'\n"
     ]
    }
   ],
   "source": [
    "rp_df <- read_tsv(\"data/pheno/top20.tsv\", show_col_types = F) %>%\n",
    "    select(-FID, -IID) %>%\n",
    "    correlate(method = \"pearson\", use = \"pairwise.complete.obs\") %>%\n",
    "    stretch \n",
    "\n",
    "rp_df %>% write_tsv(\"plot_data/phenotypic_correlation.tsv\")"
   ]
  },
  {
   "cell_type": "markdown",
   "id": "2764dec2-d46b-4eda-b1df-12155766bdb4",
   "metadata": {},
   "source": [
    "## Heritability"
   ]
  },
  {
   "cell_type": "code",
   "execution_count": 3,
   "id": "961b64d0-e8ad-4e71-bca4-eab6b4316d1b",
   "metadata": {},
   "outputs": [
    {
     "data": {
      "text/html": [
       "<table class=\"dataframe\">\n",
       "<caption>A tibble: 2 × 2</caption>\n",
       "<thead>\n",
       "\t<tr><th scope=col>phenotype</th><th scope=col>h2</th></tr>\n",
       "\t<tr><th scope=col>&lt;chr&gt;</th><th scope=col>&lt;dbl&gt;</th></tr>\n",
       "</thead>\n",
       "<tbody>\n",
       "\t<tr><td>b_E78</td><td>0.118519</td></tr>\n",
       "\t<tr><td>b_F32</td><td>0.040428</td></tr>\n",
       "</tbody>\n",
       "</table>\n"
      ],
      "text/latex": [
       "A tibble: 2 × 2\n",
       "\\begin{tabular}{ll}\n",
       " phenotype & h2\\\\\n",
       " <chr> & <dbl>\\\\\n",
       "\\hline\n",
       "\t b\\_E78 & 0.118519\\\\\n",
       "\t b\\_F32 & 0.040428\\\\\n",
       "\\end{tabular}\n"
      ],
      "text/markdown": [
       "\n",
       "A tibble: 2 × 2\n",
       "\n",
       "| phenotype &lt;chr&gt; | h2 &lt;dbl&gt; |\n",
       "|---|---|\n",
       "| b_E78 | 0.118519 |\n",
       "| b_F32 | 0.040428 |\n",
       "\n"
      ],
      "text/plain": [
       "  phenotype h2      \n",
       "1 b_E78     0.118519\n",
       "2 b_F32     0.040428"
      ]
     },
     "metadata": {},
     "output_type": "display_data"
    }
   ],
   "source": [
    "h2_df <- fs::dir_ls(\"data/h2\", glob = \"*.hers\") %>%\n",
    "    vroom::vroom(id = \"source\", delim = \" \", show_col_types = F, .name_repair = \"unique_quiet\") %>%\n",
    "    filter(Component == \"Her_All\") %>%\n",
    "    mutate(phenotype = source %>% str_extract(\"b_[A-Z0-9]+\")) %>%\n",
    "    select(phenotype, h2 = Heritability)\n",
    "\n",
    "h2_df %>% write_tsv(\"plot_data/heritability.tsv\")\n",
    "\n",
    "h2_df %>% head(2)"
   ]
  },
  {
   "cell_type": "markdown",
   "id": "bccb096c-4a1a-43d2-b1e2-033bd8b2c558",
   "metadata": {},
   "source": [
    "## Genetic correlation"
   ]
  },
  {
   "cell_type": "code",
   "execution_count": 4,
   "id": "8fb228b8-fcef-43e4-bf93-90b1e02d9ab8",
   "metadata": {},
   "outputs": [
    {
     "data": {
      "text/html": [
       "<table class=\"dataframe\">\n",
       "<caption>A tibble: 2 × 3</caption>\n",
       "<thead>\n",
       "\t<tr><th scope=col>phenotype1</th><th scope=col>phenotype2</th><th scope=col>rg</th></tr>\n",
       "\t<tr><th scope=col>&lt;chr&gt;</th><th scope=col>&lt;chr&gt;</th><th scope=col>&lt;dbl&gt;</th></tr>\n",
       "</thead>\n",
       "<tbody>\n",
       "\t<tr><td>b_E78</td><td>b_F32</td><td>0.237043</td></tr>\n",
       "\t<tr><td>b_E78</td><td>b_I10</td><td>0.617681</td></tr>\n",
       "</tbody>\n",
       "</table>\n"
      ],
      "text/latex": [
       "A tibble: 2 × 3\n",
       "\\begin{tabular}{lll}\n",
       " phenotype1 & phenotype2 & rg\\\\\n",
       " <chr> & <chr> & <dbl>\\\\\n",
       "\\hline\n",
       "\t b\\_E78 & b\\_F32 & 0.237043\\\\\n",
       "\t b\\_E78 & b\\_I10 & 0.617681\\\\\n",
       "\\end{tabular}\n"
      ],
      "text/markdown": [
       "\n",
       "A tibble: 2 × 3\n",
       "\n",
       "| phenotype1 &lt;chr&gt; | phenotype2 &lt;chr&gt; | rg &lt;dbl&gt; |\n",
       "|---|---|---|\n",
       "| b_E78 | b_F32 | 0.237043 |\n",
       "| b_E78 | b_I10 | 0.617681 |\n",
       "\n"
      ],
      "text/plain": [
       "  phenotype1 phenotype2 rg      \n",
       "1 b_E78      b_F32      0.237043\n",
       "2 b_E78      b_I10      0.617681"
      ]
     },
     "metadata": {},
     "output_type": "display_data"
    }
   ],
   "source": [
    "rg_df <- fs::dir_ls(\"data/rg\", glob = \"*.cors\") %>%\n",
    "    vroom::vroom(id = \"source\", delim = \" \", show_col_types = F, .name_repair = \"unique_quiet\") %>%\n",
    "    filter(Component == \"Cor_All\") %>%\n",
    "    rowwise %>%\n",
    "    mutate(\n",
    "        phenotypes = source %>% str_extract_all(\"b_[A-Z0-9]+\"),\n",
    "        phenotype1 = first(phenotypes),\n",
    "        phenotype2 = last(phenotypes)\n",
    "    ) %>%\n",
    "    ungroup %>%\n",
    "    select(phenotype1, phenotype2, rg = Value)\n",
    "\n",
    "rg_df %>% write_tsv(\"plot_data/genetic_correlation.tsv\")\n",
    "\n",
    "rg_df %>% head(2)"
   ]
  },
  {
   "cell_type": "markdown",
   "id": "f634dd78-7e05-4714-ac49-e41de54c1db7",
   "metadata": {},
   "source": [
    "# Simulation\n",
    "\n",
    "## Phenotypic correlation"
   ]
  },
  {
   "cell_type": "code",
   "execution_count": 5,
   "id": "87d11c44-ddf5-4732-85d9-a6c7427a5a23",
   "metadata": {},
   "outputs": [
    {
     "data": {
      "text/html": [
       "<table class=\"dataframe\">\n",
       "<caption>A tibble: 2 × 4</caption>\n",
       "<thead>\n",
       "\t<tr><th scope=col>phenotype1</th><th scope=col>simulation</th><th scope=col>phenotype2</th><th scope=col>r</th></tr>\n",
       "\t<tr><th scope=col>&lt;chr&gt;</th><th scope=col>&lt;chr&gt;</th><th scope=col>&lt;chr&gt;</th><th scope=col>&lt;dbl&gt;</th></tr>\n",
       "</thead>\n",
       "<tbody>\n",
       "\t<tr><td>Trait_01</td><td>100</td><td>Trait_01</td><td>1.0000000</td></tr>\n",
       "\t<tr><td>Trait_01</td><td>100</td><td>Trait_02</td><td>0.7117533</td></tr>\n",
       "</tbody>\n",
       "</table>\n"
      ],
      "text/latex": [
       "A tibble: 2 × 4\n",
       "\\begin{tabular}{llll}\n",
       " phenotype1 & simulation & phenotype2 & r\\\\\n",
       " <chr> & <chr> & <chr> & <dbl>\\\\\n",
       "\\hline\n",
       "\t Trait\\_01 & 100 & Trait\\_01 & 1.0000000\\\\\n",
       "\t Trait\\_01 & 100 & Trait\\_02 & 0.7117533\\\\\n",
       "\\end{tabular}\n"
      ],
      "text/markdown": [
       "\n",
       "A tibble: 2 × 4\n",
       "\n",
       "| phenotype1 &lt;chr&gt; | simulation &lt;chr&gt; | phenotype2 &lt;chr&gt; | r &lt;dbl&gt; |\n",
       "|---|---|---|---|\n",
       "| Trait_01 | 100 | Trait_01 | 1.0000000 |\n",
       "| Trait_01 | 100 | Trait_02 | 0.7117533 |\n",
       "\n"
      ],
      "text/plain": [
       "  phenotype1 simulation phenotype2 r        \n",
       "1 Trait_01   100        Trait_01   1.0000000\n",
       "2 Trait_01   100        Trait_02   0.7117533"
      ]
     },
     "metadata": {},
     "output_type": "display_data"
    }
   ],
   "source": [
    "sim_pcov_df <- fs::dir_ls(\"../../1.simulation/data/simulations/\", glob = \"*sim_*_h_0.01_s_0.5_p_0.0\") %>%\n",
    "    map_chr(~fs::path_join(c(.x, \"pcov\", \"liability.tsv\"))) %>%\n",
    "    keep(fs::file_exists) %>%\n",
    "    vroom::vroom(id = \"source\", delim = \"\\t\", show_col_types = F, .name_repair = \"unique_quiet\") %>%\n",
    "    rename(phenotype1 = `...1`) %>%\n",
    "    mutate(simulation = source %>% str_extract(\"(?<=sim_)[0-9]+\")) %>%\n",
    "    select(-source) %>%\n",
    "    pivot_longer(starts_with(\"Trait_\"), names_to = \"phenotype2\", values_to = \"r\")\n",
    "\n",
    "sim_pcov_df %>% write_tsv(\"plot_data/sim_phenotypic_correlation.tsv\")\n",
    "\n",
    "sim_pcov_df %>% head(2)"
   ]
  },
  {
   "cell_type": "markdown",
   "id": "60ed8d25-2d57-4573-be1d-140e256f1109",
   "metadata": {},
   "source": [
    "## Heritability"
   ]
  },
  {
   "cell_type": "code",
   "execution_count": 6,
   "id": "1272ee62-575f-4b67-9dd9-9972cb868fd1",
   "metadata": {},
   "outputs": [
    {
     "data": {
      "text/html": [
       "<table class=\"dataframe\">\n",
       "<caption>A tibble: 2 × 3</caption>\n",
       "<thead>\n",
       "\t<tr><th scope=col>simulation</th><th scope=col>phenotype</th><th scope=col>h2</th></tr>\n",
       "\t<tr><th scope=col>&lt;chr&gt;</th><th scope=col>&lt;chr&gt;</th><th scope=col>&lt;dbl&gt;</th></tr>\n",
       "</thead>\n",
       "<tbody>\n",
       "\t<tr><td>100</td><td>Trait_01</td><td>0.016275</td></tr>\n",
       "\t<tr><td>100</td><td>Trait_02</td><td>0.009196</td></tr>\n",
       "</tbody>\n",
       "</table>\n"
      ],
      "text/latex": [
       "A tibble: 2 × 3\n",
       "\\begin{tabular}{lll}\n",
       " simulation & phenotype & h2\\\\\n",
       " <chr> & <chr> & <dbl>\\\\\n",
       "\\hline\n",
       "\t 100 & Trait\\_01 & 0.016275\\\\\n",
       "\t 100 & Trait\\_02 & 0.009196\\\\\n",
       "\\end{tabular}\n"
      ],
      "text/markdown": [
       "\n",
       "A tibble: 2 × 3\n",
       "\n",
       "| simulation &lt;chr&gt; | phenotype &lt;chr&gt; | h2 &lt;dbl&gt; |\n",
       "|---|---|---|\n",
       "| 100 | Trait_01 | 0.016275 |\n",
       "| 100 | Trait_02 | 0.009196 |\n",
       "\n"
      ],
      "text/plain": [
       "  simulation phenotype h2      \n",
       "1 100        Trait_01  0.016275\n",
       "2 100        Trait_02  0.009196"
      ]
     },
     "metadata": {},
     "output_type": "display_data"
    }
   ],
   "source": [
    "sim_h2_df <- fs::dir_ls(\"../../1.simulation/data/simulations/\", glob = \"*sim_*_h_0.01_s_0.5_p_0.0\") %>%\n",
    "    map_chr(~fs::path_join(c(.x, \"gcov\", \"g_0.05.tsv\"))) %>%\n",
    "    keep(fs::file_exists) %>%\n",
    "    vroom::vroom(id = \"source\", delim = \"\\t\", show_col_types = F, .name_repair = \"unique_quiet\") %>%\n",
    "    rename(phenotype1 = `...1`) %>%\n",
    "    mutate(simulation = source %>% str_extract(\"(?<=sim_)[0-9]+\")) %>%\n",
    "    select(-source) %>%\n",
    "    pivot_longer(starts_with(\"Trait_\"), names_to = \"phenotype2\", values_to = \"h2\") %>%\n",
    "    filter(phenotype1 == phenotype2) %>%\n",
    "    select(simulation, phenotype = phenotype1, h2)\n",
    "\n",
    "sim_h2_df %>% write_tsv(\"plot_data/sim_heritability.tsv\")\n",
    "\n",
    "sim_h2_df %>% head(2)"
   ]
  },
  {
   "cell_type": "markdown",
   "id": "309f241f-22d5-4d29-9aec-a95fe72d1a95",
   "metadata": {},
   "source": [
    "## Genetic correlation"
   ]
  },
  {
   "cell_type": "code",
   "execution_count": 7,
   "id": "10a2ec08-902d-4201-80ff-da2c53ace0d9",
   "metadata": {},
   "outputs": [
    {
     "data": {
      "text/html": [
       "<table class=\"dataframe\">\n",
       "<caption>A tibble: 2 × 4</caption>\n",
       "<thead>\n",
       "\t<tr><th scope=col>simulation</th><th scope=col>phenotype1</th><th scope=col>phenotype2</th><th scope=col>rg</th></tr>\n",
       "\t<tr><th scope=col>&lt;chr&gt;</th><th scope=col>&lt;chr&gt;</th><th scope=col>&lt;chr&gt;</th><th scope=col>&lt;dbl&gt;</th></tr>\n",
       "</thead>\n",
       "<tbody>\n",
       "\t<tr><td>100</td><td>Trait_01</td><td>Trait_02</td><td>0.8101352</td></tr>\n",
       "\t<tr><td>100</td><td>Trait_01</td><td>Trait_03</td><td>0.4700921</td></tr>\n",
       "</tbody>\n",
       "</table>\n"
      ],
      "text/latex": [
       "A tibble: 2 × 4\n",
       "\\begin{tabular}{llll}\n",
       " simulation & phenotype1 & phenotype2 & rg\\\\\n",
       " <chr> & <chr> & <chr> & <dbl>\\\\\n",
       "\\hline\n",
       "\t 100 & Trait\\_01 & Trait\\_02 & 0.8101352\\\\\n",
       "\t 100 & Trait\\_01 & Trait\\_03 & 0.4700921\\\\\n",
       "\\end{tabular}\n"
      ],
      "text/markdown": [
       "\n",
       "A tibble: 2 × 4\n",
       "\n",
       "| simulation &lt;chr&gt; | phenotype1 &lt;chr&gt; | phenotype2 &lt;chr&gt; | rg &lt;dbl&gt; |\n",
       "|---|---|---|---|\n",
       "| 100 | Trait_01 | Trait_02 | 0.8101352 |\n",
       "| 100 | Trait_01 | Trait_03 | 0.4700921 |\n",
       "\n"
      ],
      "text/plain": [
       "  simulation phenotype1 phenotype2 rg       \n",
       "1 100        Trait_01   Trait_02   0.8101352\n",
       "2 100        Trait_01   Trait_03   0.4700921"
      ]
     },
     "metadata": {},
     "output_type": "display_data"
    }
   ],
   "source": [
    "sim_rg_df <- fs::dir_ls(\"../../1.simulation/data/simulations/\", glob = \"*sim_*_h_0.01_s_0.5_p_0.0\") %>%\n",
    "    map_chr(~fs::path_join(c(.x, \"gcov\", \"g_0.05.tsv\"))) %>%\n",
    "    keep(fs::file_exists) %>%\n",
    "    vroom::vroom(id = \"source\", delim = \"\\t\", show_col_types = F, .name_repair = \"unique_quiet\") %>%\n",
    "    rename(phenotype1 = `...1`) %>%\n",
    "    mutate(simulation = source %>% str_extract(\"(?<=sim_)[0-9]+\")) %>%\n",
    "    select(-source) %>%\n",
    "    # Convert from covariance to correlation matrix\n",
    "    nest(data = -simulation) %>%\n",
    "    rowwise %>%\n",
    "    mutate(\n",
    "        data = data %>% \n",
    "            as.data.frame %>% \n",
    "            column_to_rownames(\"phenotype1\") %>% \n",
    "            as.matrix %>% \n",
    "            cov2cor %>% \n",
    "            as.data.frame %>%\n",
    "            rownames_to_column(\"phenotype1\") %>%\n",
    "            list\n",
    "    ) %>%\n",
    "    ungroup %>%\n",
    "    unnest(data) %>%\n",
    "    pivot_longer(starts_with(\"Trait_\"), names_to = \"phenotype2\", values_to = \"rg\") %>%\n",
    "    filter(phenotype1 < phenotype2)\n",
    "\n",
    "sim_rg_df %>% write_tsv(\"plot_data/sim_genetic_correlation.tsv\")\n",
    "\n",
    "sim_rg_df %>% head(2)"
   ]
  }
 ],
 "metadata": {
  "kernelspec": {
   "display_name": "R",
   "language": "R",
   "name": "ir"
  },
  "language_info": {
   "codemirror_mode": "r",
   "file_extension": ".r",
   "mimetype": "text/x-r-source",
   "name": "R",
   "pygments_lexer": "r",
   "version": "4.3.2"
  }
 },
 "nbformat": 4,
 "nbformat_minor": 5
}
