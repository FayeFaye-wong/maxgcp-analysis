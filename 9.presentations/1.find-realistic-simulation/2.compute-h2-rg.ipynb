{
 "cells": [
  {
   "cell_type": "code",
   "execution_count": 12,
   "id": "9dd5aadb-bd5d-4534-a12c-91deb650f0bc",
   "metadata": {},
   "outputs": [],
   "source": [
    "import concurrent.futures\n",
    "import pathlib\n",
    "import shlex\n",
    "import subprocess\n",
    "\n",
    "import tqdm.notebook as tqdm"
   ]
  },
  {
   "cell_type": "markdown",
   "id": "7739ce7a-e806-4cda-9637-892966b83379",
   "metadata": {},
   "source": [
    "# GWAS"
   ]
  },
  {
   "cell_type": "code",
   "execution_count": 3,
   "id": "fa266935-9239-44f5-8897-bb70358d64f0",
   "metadata": {},
   "outputs": [],
   "source": [
    "geno_path = (\n",
    "    # \"/data1/home/mnz2108/\"  # mimir\n",
    "    \"/data2/michael/\"    # eir\n",
    "    \"data_resources/ukbiobank/hapmap3_genotypes/hapmap3_variants_white_british\"\n",
    ")"
   ]
  },
  {
   "cell_type": "code",
   "execution_count": 5,
   "id": "b47476e7-3ae5-4061-900f-3b8016901b48",
   "metadata": {},
   "outputs": [
    {
     "name": "stdout",
     "output_type": "stream",
     "text": [
      "PLINK v2.00a6LM 64-bit Intel (18 Mar 2024)     www.cog-genomics.org/plink/2.0/\n",
      "(C) 2005-2024 Shaun Purcell, Christopher Chang   GNU General Public License v3\n",
      "Logging to data/gwas/plink.log.\n",
      "Options in effect:\n",
      "  --covar ../../data/pheno/covar.tsv\n",
      "  --glm hide-covar\n",
      "  --out data/gwas/plink\n",
      "  --pfile /data2/michael/data_resources/ukbiobank/hapmap3_genotypes/hapmap3_variants_white_british\n",
      "  --pheno data/pheno/top20.tsv\n",
      "  --threads 55\n",
      "\n",
      "Start time: Thu Apr 11 10:14:56 2024\n",
      "193175 MiB RAM detected, ~160491 available; reserving 96587 MiB for main\n",
      "workspace.\n",
      "Using up to 55 threads (change this with --threads).\n",
      "429954 samples (232741 females, 197213 males; 429954 founders) loaded from\n",
      "/data2/michael/data_resources/ukbiobank/hapmap3_genotypes/hapmap3_variants_white_british.psam.\n",
      "1166145 variants loaded from\n",
      "/data2/michael/data_resources/ukbiobank/hapmap3_genotypes/hapmap3_variants_white_british.pvar.\n",
      "20 quantitative phenotypes loaded.\n",
      "12 covariates loaded from ../../data/pheno/covar.tsv.\n",
      "Calculating allele frequencies... 11162228333944505661677378848995done.\n",
      "--glm linear regression on quantitative phenotypes #1-20: 11162228333944505661677378848995done.\n",
      "Results written to data/gwas/plink.<phenotype name>.glm.linear .\n",
      "End time: Thu Apr 11 10:50:27 2024\n"
     ]
    }
   ],
   "source": [
    "command = f\"\"\"\n",
    "plink2 \\\n",
    "    --pfile {geno_path} \\\n",
    "    --pheno data/pheno/top20.tsv \\\n",
    "    --covar ../../data/pheno/covar.tsv \\\n",
    "    --glm hide-covar \\\n",
    "    --threads 55 \\\n",
    "    --out data/gwas/plink\n",
    "\"\"\"\n",
    "\n",
    "result = subprocess.run(shlex.split(command))"
   ]
  },
  {
   "cell_type": "markdown",
   "id": "9df4d654-dabf-429a-8d1b-46bc0df46cd9",
   "metadata": {},
   "source": [
    "# Format"
   ]
  },
  {
   "cell_type": "code",
   "execution_count": 13,
   "id": "ea1c08dd-2ba0-404f-bd90-ff86a7639715",
   "metadata": {},
   "outputs": [
    {
     "name": "stdout",
     "output_type": "stream",
     "text": [
      "Success!\n",
      "Success!\n",
      "Success!\n",
      "Success!\n",
      "Success!\n",
      "Success!\n",
      "Success!\n",
      "Success!\n",
      "Success!\n",
      "Success!\n",
      "Success!\n",
      "Success!\n",
      "Success!\n",
      "Success!\n",
      "Success!\n",
      "Success!\n",
      "Success!\n",
      "Success!\n",
      "Success!\n",
      "Success!\n"
     ]
    },
    {
     "data": {
      "text/plain": [
       "CompletedProcess(args=['find', 'data/gwas/', '-type', 'f', '-name', '*.linear', '-exec', 'sumher_rs', 'fmt', '-g', '{}', '-o', '{}.summaries', ';'], returncode=0)"
      ]
     },
     "execution_count": 13,
     "metadata": {},
     "output_type": "execute_result"
    }
   ],
   "source": [
    "# Reformat all the summary statistics for LDAK\n",
    "command = \"\"\"\n",
    "find data/gwas/ -type f -name *.linear -exec sumher_rs fmt -g {} -o {}.summaries \\;\n",
    "\"\"\"\n",
    "subprocess.run(shlex.split(command))"
   ]
  },
  {
   "cell_type": "markdown",
   "id": "a0937201-56ad-4fd2-a390-c6839b6e9295",
   "metadata": {},
   "source": [
    "# Heritability"
   ]
  },
  {
   "cell_type": "code",
   "execution_count": 24,
   "id": "89ed9ddd-3a0d-437a-9a68-71046229ad06",
   "metadata": {},
   "outputs": [],
   "source": [
    "def make_h2_command(path):\n",
    "    output_stem = path.parent.parent.joinpath(\"h2\").joinpath(path.name)\n",
    "    return f\"\"\"\n",
    "    ldak5.2.linux \\\n",
    "        --tagfile /data2/michael/data_resources/ldak/bld.ldak.hapmap.gbr.tagging \\\n",
    "        --summary {path} \\\n",
    "        --check-sums NO \\\n",
    "        --cutoff 0.01 \\\n",
    "        --sum-hers {output_stem}\n",
    "    \"\"\"\n",
    "\n",
    "def run_h2(path):\n",
    "    return subprocess.run(shlex.split(make_h2_command(path)), capture_output=True)"
   ]
  },
  {
   "cell_type": "code",
   "execution_count": 25,
   "id": "c7ba38e8-64e5-4dc8-9fbf-b95b9cfb0e45",
   "metadata": {},
   "outputs": [
    {
     "name": "stdout",
     "output_type": "stream",
     "text": [
      "20\n"
     ]
    },
    {
     "data": {
      "application/vnd.jupyter.widget-view+json": {
       "model_id": "bb5e5b071ce44b72992fdf96b7412925",
       "version_major": 2,
       "version_minor": 0
      },
      "text/plain": [
       "  0%|          | 0/20 [00:00<?, ?it/s]"
      ]
     },
     "metadata": {},
     "output_type": "display_data"
    }
   ],
   "source": [
    "gwas_results = sorted(pathlib.Path(\"data/gwas/\").glob(\"*.summaries\"))\n",
    "print(len(gwas_results))\n",
    "\n",
    "with concurrent.futures.ThreadPoolExecutor() as e:\n",
    "    results = list(tqdm.tqdm(e.map(run_h2, gwas_results), total=len(gwas_results)))"
   ]
  },
  {
   "cell_type": "markdown",
   "id": "295bc86a-3b2d-4cf8-8b6b-3dbdf7c5da42",
   "metadata": {},
   "source": [
    "# Genetic correlation"
   ]
  },
  {
   "cell_type": "code",
   "execution_count": 32,
   "id": "8debecc7-f966-44cc-a17d-343a226df895",
   "metadata": {},
   "outputs": [],
   "source": [
    "def make_rg_command(path1, path2):\n",
    "    output_stem = path1.parent.parent.joinpath(\"rg\").joinpath(path1.name + \".\" + path2.name)\n",
    "    return f\"\"\"\n",
    "    ldak5.2.linux \\\n",
    "        --tagfile /data2/michael/data_resources/ldak/ldak.thin.hapmap.gbr.tagging \\\n",
    "        --summary {path1} \\\n",
    "        --summary2 {path2} \\\n",
    "        --check-sums NO \\\n",
    "        --cutoff 0.01 \\\n",
    "        --sum-cors {output_stem}\n",
    "    \"\"\"\n",
    "\n",
    "def run_rg(pair):\n",
    "    path1, path2 = pair\n",
    "    return subprocess.run(shlex.split(make_rg_command(path1, path2)), capture_output=True)"
   ]
  },
  {
   "cell_type": "code",
   "execution_count": 33,
   "id": "b6c69c72-6e48-45d7-888d-7fb960edf12a",
   "metadata": {},
   "outputs": [
    {
     "name": "stdout",
     "output_type": "stream",
     "text": [
      "190\n"
     ]
    },
    {
     "data": {
      "application/vnd.jupyter.widget-view+json": {
       "model_id": "725401e48ac343d5941f3bef22e9a1ee",
       "version_major": 2,
       "version_minor": 0
      },
      "text/plain": [
       "  0%|          | 0/190 [00:00<?, ?it/s]"
      ]
     },
     "metadata": {},
     "output_type": "display_data"
    }
   ],
   "source": [
    "pairs = [(path1, path2) for path1 in gwas_results for path2 in gwas_results if path1 < path2]\n",
    "print(len(pairs))\n",
    "\n",
    "with concurrent.futures.ThreadPoolExecutor() as e:\n",
    "    results = list(tqdm.tqdm(e.map(run_rg, pairs), total=len(pairs)))"
   ]
  }
 ],
 "metadata": {
  "kernelspec": {
   "display_name": "Python 3 (ipykernel)",
   "language": "python",
   "name": "python3"
  },
  "language_info": {
   "codemirror_mode": {
    "name": "ipython",
    "version": 3
   },
   "file_extension": ".py",
   "mimetype": "text/x-python",
   "name": "python",
   "nbconvert_exporter": "python",
   "pygments_lexer": "ipython3",
   "version": "3.11.8"
  }
 },
 "nbformat": 4,
 "nbformat_minor": 5
}
