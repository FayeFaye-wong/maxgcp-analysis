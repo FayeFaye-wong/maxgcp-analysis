{
 "cells": [
  {
   "cell_type": "markdown",
   "id": "c0b11861-681d-4099-9568-79b80da9b50c",
   "metadata": {},
   "source": [
    "# Find the top 20 ICD-code phenotypes"
   ]
  },
  {
   "cell_type": "code",
   "execution_count": 1,
   "id": "15730bcb-7fc3-41b9-84fd-86a0eeab887c",
   "metadata": {},
   "outputs": [
    {
     "name": "stderr",
     "output_type": "stream",
     "text": [
      "── \u001b[1mAttaching core tidyverse packages\u001b[22m ───────────────────────────────────────────────────────────────────────────────────── tidyverse 2.0.0 ──\n",
      "\u001b[32m✔\u001b[39m \u001b[34mdplyr    \u001b[39m 1.1.4     \u001b[32m✔\u001b[39m \u001b[34mreadr    \u001b[39m 2.1.5\n",
      "\u001b[32m✔\u001b[39m \u001b[34mforcats  \u001b[39m 1.0.0     \u001b[32m✔\u001b[39m \u001b[34mstringr  \u001b[39m 1.5.1\n",
      "\u001b[32m✔\u001b[39m \u001b[34mggplot2  \u001b[39m 3.5.0     \u001b[32m✔\u001b[39m \u001b[34mtibble   \u001b[39m 3.2.1\n",
      "\u001b[32m✔\u001b[39m \u001b[34mlubridate\u001b[39m 1.9.3     \u001b[32m✔\u001b[39m \u001b[34mtidyr    \u001b[39m 1.3.1\n",
      "\u001b[32m✔\u001b[39m \u001b[34mpurrr    \u001b[39m 1.0.2     \n",
      "── \u001b[1mConflicts\u001b[22m ─────────────────────────────────────────────────────────────────────────────────────────────────────── tidyverse_conflicts() ──\n",
      "\u001b[31m✖\u001b[39m \u001b[34mdplyr\u001b[39m::\u001b[32mfilter()\u001b[39m masks \u001b[34mstats\u001b[39m::filter()\n",
      "\u001b[31m✖\u001b[39m \u001b[34mdplyr\u001b[39m::\u001b[32mlag()\u001b[39m    masks \u001b[34mstats\u001b[39m::lag()\n",
      "\u001b[36mℹ\u001b[39m Use the conflicted package (\u001b[3m\u001b[34m<http://conflicted.r-lib.org/>\u001b[39m\u001b[23m) to force all conflicts to become errors\n"
     ]
    }
   ],
   "source": [
    "library(tidyverse)"
   ]
  },
  {
   "cell_type": "code",
   "execution_count": 2,
   "id": "c9842580-1caa-444b-aaa9-4a16c2206450",
   "metadata": {},
   "outputs": [],
   "source": [
    "pheno_df <- vroom::vroom(\"../../data/pheno/pheno_jan2024.tsv\", show_col_types = F, \n",
    "                         delim = \"\\t\", col_select = c(\"#FID\", \"IID\", starts_with(\"b_\"))) %>%\n",
    "    rename(FID = `#FID`)"
   ]
  },
  {
   "cell_type": "code",
   "execution_count": 3,
   "id": "0f04bb59-7e22-4155-b2a6-f67205f923e2",
   "metadata": {},
   "outputs": [],
   "source": [
    "top_20_phenos <- pheno_df %>%\n",
    "    select(-FID, -IID) %>%\n",
    "    pivot_longer(everything()) %>%\n",
    "    mutate(value = value - 2) %>%\n",
    "    group_by(name) %>%\n",
    "    summarize(n = sum(value)) %>%\n",
    "    arrange(desc(n)) %>%\n",
    "    head(20) %>%\n",
    "    pull(name) %>%\n",
    "    as.character %>% \n",
    "    sort"
   ]
  },
  {
   "cell_type": "code",
   "execution_count": null,
   "id": "5a38c1be-8eda-4f61-8cec-70b3767c709b",
   "metadata": {},
   "outputs": [],
   "source": [
    "pheno_df %>%\n",
    "    select(FID, IID, all_of(top_20_phenos)) %>%\n",
    "    write_tsv(\"data/pheno/top20.tsv\")"
   ]
  }
 ],
 "metadata": {
  "kernelspec": {
   "display_name": "R",
   "language": "R",
   "name": "ir"
  },
  "language_info": {
   "codemirror_mode": "r",
   "file_extension": ".r",
   "mimetype": "text/x-r-source",
   "name": "R",
   "pygments_lexer": "r",
   "version": "4.3.2"
  }
 },
 "nbformat": 4,
 "nbformat_minor": 5
}
