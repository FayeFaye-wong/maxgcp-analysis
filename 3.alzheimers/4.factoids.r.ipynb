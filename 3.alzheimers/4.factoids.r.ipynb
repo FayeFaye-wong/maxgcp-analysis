{
 "cells": [
  {
   "cell_type": "code",
   "execution_count": 1,
   "id": "92874cc4-88cb-481e-ae50-f1c6c7c1e05f",
   "metadata": {},
   "outputs": [],
   "source": [
    "options(warn = -1, tidyverse.quiet = T)\n",
    "\n",
    "library(tidyverse, warn.conflicts = F, quietly = T)\n",
    "library(arrow, warn.conflicts = F)\n",
    "library(cowplot, warn.conflicts = F)\n",
    "library(yardstick, warn.conflicts = F)\n",
    "library(kableExtra, warn.conflicts = F)"
   ]
  },
  {
   "cell_type": "code",
   "execution_count": 2,
   "id": "2fdf8fdf-5103-4cd0-a974-fcaffbed9ba4",
   "metadata": {},
   "outputs": [],
   "source": [
    "feature_phenotypes <- c(\n",
    "    \"Alzheimer's\" = \"b_G30\",\n",
    "    \"Cerebral infarction\" = \"b_I63\",\n",
    "    \"Acute myocardial infarction\" = \"b_I21\",\n",
    "    \"Essential hypertension\" = \"b_I10\",\n",
    "    \"Obesity\" = \"b_E66\",\n",
    "    \"Acute ischemic heart disease\" = \"b_I24\",\n",
    "    \"Ischemic heart disease\" = \"b_I25\",\n",
    "    \"Pulmonary heart diseases\" = \"b_I27\",\n",
    "    \"Other heart disease\" = \"b_I51\",\n",
    "    \"Other cerebrovascular\" = \"b_I67\",\n",
    "    \"Type 1 diabetes mellitus\" = \"b_E10\",\n",
    "    \"Type 2 diabetes mellitus\" = \"b_E11\",\n",
    "    \"HbA1c\" = \"q_30750_0\",\n",
    "    \"HDL cholesterol\" = \"q_30760_0\",\n",
    "    \"Glucose\" = \"q_30740_0\",\n",
    "    \"Cholesterol\" = \"q_30690_0\",\n",
    "    \"Triglycerides\" = \"q_30870_0\",\n",
    "    \"Lipoprotein A\" = \"q_30790_0\",\n",
    "    \"Apolipoprotein B\" = \"q_30640_0\",\n",
    "    \"Creatinine\" = \"q_30700_0\"\n",
    ")\n",
    "reversed_feature_phenotypes = names(feature_phenotypes) %>% set_names(feature_phenotypes)"
   ]
  },
  {
   "cell_type": "code",
   "execution_count": 3,
   "id": "0878ef4f-761a-4363-b6f3-eb41c2fa9487",
   "metadata": {},
   "outputs": [],
   "source": [
    "gcov_df <- read_tsv(\"data/gcov/igap.naive.tsv\", show_col_types = F)\n",
    "coef_df <- read_parquet(\"plot_data/maxgcp_coef.parquet\")"
   ]
  },
  {
   "cell_type": "code",
   "execution_count": 4,
   "id": "5b084f76-478e-4e48-97c9-73a3f3da5dea",
   "metadata": {},
   "outputs": [
    {
     "data": {
      "text/html": [
       "<table class=\"dataframe\">\n",
       "<caption>A tibble: 2 × 4</caption>\n",
       "<thead>\n",
       "\t<tr><th scope=col>Phenotype</th><th scope=col>Genetic correlation</th><th scope=col>Standard error</th><th scope=col>MaxGCP coefficient</th></tr>\n",
       "\t<tr><th scope=col>&lt;chr&gt;</th><th scope=col>&lt;dbl&gt;</th><th scope=col>&lt;dbl&gt;</th><th scope=col>&lt;dbl&gt;</th></tr>\n",
       "</thead>\n",
       "<tbody>\n",
       "\t<tr><td>Alzheimer's          </td><td>0.792638</td><td>0.245018</td><td>10.7191032</td></tr>\n",
       "\t<tr><td>Other cerebrovascular</td><td>0.151155</td><td>0.154478</td><td> 0.5079318</td></tr>\n",
       "</tbody>\n",
       "</table>\n"
      ],
      "text/latex": [
       "A tibble: 2 × 4\n",
       "\\begin{tabular}{llll}\n",
       " Phenotype & Genetic correlation & Standard error & MaxGCP coefficient\\\\\n",
       " <chr> & <dbl> & <dbl> & <dbl>\\\\\n",
       "\\hline\n",
       "\t Alzheimer's           & 0.792638 & 0.245018 & 10.7191032\\\\\n",
       "\t Other cerebrovascular & 0.151155 & 0.154478 &  0.5079318\\\\\n",
       "\\end{tabular}\n"
      ],
      "text/markdown": [
       "\n",
       "A tibble: 2 × 4\n",
       "\n",
       "| Phenotype &lt;chr&gt; | Genetic correlation &lt;dbl&gt; | Standard error &lt;dbl&gt; | MaxGCP coefficient &lt;dbl&gt; |\n",
       "|---|---|---|---|\n",
       "| Alzheimer's           | 0.792638 | 0.245018 | 10.7191032 |\n",
       "| Other cerebrovascular | 0.151155 | 0.154478 |  0.5079318 |\n",
       "\n"
      ],
      "text/plain": [
       "  Phenotype             Genetic correlation Standard error MaxGCP coefficient\n",
       "1 Alzheimer's           0.792638            0.245018       10.7191032        \n",
       "2 Other cerebrovascular 0.151155            0.154478        0.5079318        "
      ]
     },
     "metadata": {},
     "output_type": "display_data"
    }
   ],
   "source": [
    "gcov_plot_df <- gcov_df %>%\n",
    "    filter(Component == \"Cor_All\") %>%\n",
    "    select(-Component) %>%\n",
    "    filter(str_starts(phenotype_id, \"b_|q_\")) %>%\n",
    "    mutate(phenotype_id = recode(phenotype_id, !!!reversed_feature_phenotypes)) %>%\n",
    "    arrange(desc(Value)) %>%\n",
    "    select(`Phenotype` = phenotype_id, `Genetic correlation` = Value, `Standard error` = SD) %>%\n",
    "    inner_join(coef_df, by = c(\"Phenotype\" = \"feature\")) %>%\n",
    "    rename(`MaxGCP coefficient` = value)\n",
    "\n",
    "gcov_plot_df %>% head(2)"
   ]
  },
  {
   "cell_type": "code",
   "execution_count": 5,
   "id": "7917b9bc-6032-4630-9125-6a4e695a0847",
   "metadata": {},
   "outputs": [
    {
     "name": "stderr",
     "output_type": "stream",
     "text": [
      "Registered S3 methods overwritten by 'ggpp':\n",
      "  method                  from   \n",
      "  heightDetails.titleGrob ggplot2\n",
      "  widthDetails.titleGrob  ggplot2\n",
      "\n",
      "Registered S3 method overwritten by 'ggpmisc':\n",
      "  method                  from   \n",
      "  as.character.polynomial polynom\n",
      "\n"
     ]
    },
    {
     "data": {
      "image/png": "[encoded data removed]",
      "text/plain": [
       "plot without title"
      ]
     },
     "metadata": {
      "image/png": {
       "height": 312.5,
       "width": 375
      }
     },
     "output_type": "display_data"
    }
   ],
   "source": [
    "options(repr.plot.width = 3, repr.plot.height = 2.5, repr.plot.res = 250)\n",
    "\n",
    "rg_vs_coef_plot <- gcov_plot_df %>%\n",
    "    ggplot(aes(x = `Genetic correlation`, y = `MaxGCP coefficient`)) +\n",
    "    geom_point(alpha = 0.5) +\n",
    "    geom_abline(slope = 1, intercept = 0, linetype = \"dashed\", color = \"grey50\") +\n",
    "    theme_cowplot() +\n",
    "    ggpmisc::stat_correlation()\n",
    "\n",
    "save_plot(\"img/rg_vs_coef.png\", rg_vs_coef_plot, base_width = 3, base_height = 2.5,\n",
    "          dpi = 400, bg = \"white\")\n",
    "\n",
    "rg_vs_coef_plot"
   ]
  },
  {
   "cell_type": "code",
   "execution_count": 6,
   "id": "6e97def6-81fd-4ec5-899f-f14be1be2ab9",
   "metadata": {},
   "outputs": [
    {
     "data": {
      "text/plain": [
       "\\begin{table}\n",
       "\\centering\n",
       "\\begin{tabular}[t]{l|r|r|r}\n",
       "\\hline\n",
       "Phenotype & Genetic correlation & Standard error & MaxGCP coefficient\\\\\n",
       "\\hline\n",
       "Alzheimer's & 0.793 & 0.245 & 10.719\\\\\n",
       "\\hline\n",
       "Other cerebrovascular & 0.151 & 0.154 & 0.508\\\\\n",
       "\\hline\n",
       "Apolipoprotein B & 0.125 & 0.060 & 0.017\\\\\n",
       "\\hline\n",
       "Cholesterol & 0.116 & 0.056 & 0.022\\\\\n",
       "\\hline\n",
       "Glucose & 0.092 & 0.053 & 0.029\\\\\n",
       "\\hline\n",
       "Type 2 diabetes mellitus & 0.075 & 0.064 & 0.699\\\\\n",
       "\\hline\n",
       "Triglycerides & 0.061 & 0.044 & 0.025\\\\\n",
       "\\hline\n",
       "Cerebral infarction & 0.058 & 0.150 & 0.244\\\\\n",
       "\\hline\n",
       "Acute ischemic heart disease & 0.015 & 0.159 & 0.684\\\\\n",
       "\\hline\n",
       "HbA1c & 0.007 & 0.043 & -0.017\\\\\n",
       "\\hline\n",
       "HDL cholesterol & -0.001 & 0.041 & 0.005\\\\\n",
       "\\hline\n",
       "Essential hypertension & -0.013 & 0.053 & -0.012\\\\\n",
       "\\hline\n",
       "Lipoprotein A & -0.022 & 0.142 & -0.001\\\\\n",
       "\\hline\n",
       "Creatinine & -0.062 & 0.044 & -0.040\\\\\n",
       "\\hline\n",
       "Obesity & -0.070 & 0.068 & -0.255\\\\\n",
       "\\hline\n",
       "Type 1 diabetes mellitus & -0.085 & 0.263 & -2.277\\\\\n",
       "\\hline\n",
       "Acute myocardial infarction & -0.100 & 0.068 & -0.485\\\\\n",
       "\\hline\n",
       "Ischemic heart disease & -0.103 & 0.063 & -0.173\\\\\n",
       "\\hline\n",
       "Other heart disease & -0.136 & 0.120 & -0.159\\\\\n",
       "\\hline\n",
       "Pulmonary heart diseases & -0.365 & 0.205 & -5.594\\\\\n",
       "\\hline\n",
       "\\end{tabular}\n",
       "\\end{table}"
      ]
     },
     "metadata": {},
     "output_type": "display_data"
    }
   ],
   "source": [
    "gcov_plot_df %>%\n",
    "    kbl(\"latex\", digits = 3) %>%\n",
    "    kable_classic"
   ]
  }
 ],
 "metadata": {
  "kernelspec": {
   "display_name": "R",
   "language": "R",
   "name": "ir"
  },
  "language_info": {
   "codemirror_mode": "r",
   "file_extension": ".r",
   "mimetype": "text/x-r-source",
   "name": "R",
   "pygments_lexer": "r",
   "version": "4.3.2"
  }
 },
 "nbformat": 4,
 "nbformat_minor": 5
}
