{
 "cells": [
  {
   "cell_type": "code",
   "execution_count": 1,
   "id": "3a033cb7-0628-4c2d-a282-5920b89aefb3",
   "metadata": {},
   "outputs": [],
   "source": [
    "import pathlib\n",
    "\n",
    "import numpy as np\n",
    "import polars as pl\n",
    "import pandas as pd\n",
    "import tqdm\n",
    "import seaborn as sns\n",
    "import matplotlib.pyplot as plt"
   ]
  },
  {
   "cell_type": "code",
   "execution_count": 2,
   "id": "3968aa0a-7a3c-45c8-9de7-dedf2677b201",
   "metadata": {},
   "outputs": [
    {
     "name": "stdout",
     "output_type": "stream",
     "text": [
      "349497\n"
     ]
    }
   ],
   "source": [
    "rg_paths = sorted(pathlib.Path(\"data/rg\").glob(\"*.HEreg\"))\n",
    "\n",
    "print(len(rg_paths))"
   ]
  },
  {
   "cell_type": "code",
   "execution_count": 3,
   "id": "efb292b8-d4a3-47ad-8b84-e9abf1df65a1",
   "metadata": {},
   "outputs": [
    {
     "name": "stderr",
     "output_type": "stream",
     "text": [
      "100%|██████████████████████████████████████████████████████████████████████████████████████████████| 349497/349497 [09:49<00:00, 592.86it/s]\n"
     ]
    }
   ],
   "source": [
    "usable_rg_dfs = list()\n",
    "\n",
    "for path in tqdm.tqdm(rg_paths):\n",
    "    rg_df = pd.read_csv(path, sep=\"\\s+\", skiprows=2, index_col=0)\n",
    "    if np.isnan(rg_df.loc[\"rG\", \"Estimate\"]):\n",
    "        continue\n",
    "\n",
    "    pheno1, pheno2 = path.stem.replace(\"rg_sub_0_\", \"\").split(\"_\")\n",
    "\n",
    "    rg_df = (\n",
    "        rg_df\n",
    "        .loc[[\"V(G)/Vp_tr1\", \"V(G)/Vp_tr2\", \"C(G)/Vp_tr12\", \"rG\", \"N_tr1\", \"N_tr2\"], :]\n",
    "        .assign(\n",
    "            pheno1=pheno1,\n",
    "            pheno2=pheno2\n",
    "        )\n",
    "    )\n",
    "    \n",
    "    usable_rg_dfs.append(rg_df)\n",
    "\n",
    "usable_rg_df = pd.concat(usable_rg_dfs)"
   ]
  },
  {
   "cell_type": "code",
   "execution_count": 6,
   "id": "493f7c6e-4d34-4b99-bb4a-511447f5b3f3",
   "metadata": {},
   "outputs": [],
   "source": [
    "usable_rg_df.reset_index().pipe(pl.DataFrame).write_parquet(\"data/gathered_rg.parquet\")"
   ]
  },
  {
   "cell_type": "code",
   "execution_count": 7,
   "id": "ca55fa0b-6524-4ce4-9bd5-084fbd7a392d",
   "metadata": {},
   "outputs": [
    {
     "data": {
      "text/html": [
       "<div>\n",
       "<style scoped>\n",
       "    .dataframe tbody tr th:only-of-type {\n",
       "        vertical-align: middle;\n",
       "    }\n",
       "\n",
       "    .dataframe tbody tr th {\n",
       "        vertical-align: top;\n",
       "    }\n",
       "\n",
       "    .dataframe thead th {\n",
       "        text-align: right;\n",
       "    }\n",
       "</style>\n",
       "<table border=\"1\" class=\"dataframe\">\n",
       "  <thead>\n",
       "    <tr style=\"text-align: right;\">\n",
       "      <th></th>\n",
       "      <th>Estimate</th>\n",
       "      <th>SE_OLS</th>\n",
       "      <th>SE_Jackknife</th>\n",
       "      <th>P_OLS</th>\n",
       "      <th>P_Jackknife</th>\n",
       "      <th>pheno1</th>\n",
       "      <th>pheno2</th>\n",
       "    </tr>\n",
       "    <tr>\n",
       "      <th>Coefficient</th>\n",
       "      <th></th>\n",
       "      <th></th>\n",
       "      <th></th>\n",
       "      <th></th>\n",
       "      <th></th>\n",
       "      <th></th>\n",
       "      <th></th>\n",
       "    </tr>\n",
       "  </thead>\n",
       "  <tbody>\n",
       "    <tr>\n",
       "      <th>V(G)/Vp_tr1</th>\n",
       "      <td>0.023622</td>\n",
       "      <td>0.016090</td>\n",
       "      <td>0.022798</td>\n",
       "      <td>0.142077</td>\n",
       "      <td>0.300132</td>\n",
       "      <td>1400</td>\n",
       "      <td>1405</td>\n",
       "    </tr>\n",
       "    <tr>\n",
       "      <th>V(G)/Vp_tr2</th>\n",
       "      <td>0.021113</td>\n",
       "      <td>0.015663</td>\n",
       "      <td>0.029673</td>\n",
       "      <td>0.177689</td>\n",
       "      <td>0.476774</td>\n",
       "      <td>1400</td>\n",
       "      <td>1405</td>\n",
       "    </tr>\n",
       "  </tbody>\n",
       "</table>\n",
       "</div>"
      ],
      "text/plain": [
       "             Estimate    SE_OLS  SE_Jackknife     P_OLS  P_Jackknife pheno1  \\\n",
       "Coefficient                                                                   \n",
       "V(G)/Vp_tr1  0.023622  0.016090      0.022798  0.142077     0.300132   1400   \n",
       "V(G)/Vp_tr2  0.021113  0.015663      0.029673  0.177689     0.476774   1400   \n",
       "\n",
       "            pheno2  \n",
       "Coefficient         \n",
       "V(G)/Vp_tr1   1405  \n",
       "V(G)/Vp_tr2   1405  "
      ]
     },
     "execution_count": 7,
     "metadata": {},
     "output_type": "execute_result"
    }
   ],
   "source": [
    "usable_rg_df.head(2)"
   ]
  }
 ],
 "metadata": {
  "kernelspec": {
   "display_name": "Python 3 (ipykernel)",
   "language": "python",
   "name": "python3"
  },
  "language_info": {
   "codemirror_mode": {
    "name": "ipython",
    "version": 3
   },
   "file_extension": ".py",
   "mimetype": "text/x-python",
   "name": "python",
   "nbconvert_exporter": "python",
   "pygments_lexer": "ipython3",
   "version": "3.11.8"
  }
 },
 "nbformat": 4,
 "nbformat_minor": 5
}
