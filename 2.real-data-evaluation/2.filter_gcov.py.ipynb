{
 "cells": [
  {
   "cell_type": "code",
   "execution_count": 1,
   "id": "ec489a3d-78a4-42c7-b306-67c2b11b1e63",
   "metadata": {},
   "outputs": [],
   "source": [
    "import subprocess\n",
    "import shlex\n",
    "\n",
    "import numpy as np\n",
    "import polars as pl\n",
    "import pandas as pd\n",
    "import networkx as nx\n",
    "import scipy.io"
   ]
  },
  {
   "cell_type": "code",
   "execution_count": 2,
   "id": "4daab562-cb45-4423-a0d9-a2f4cbd9ed0e",
   "metadata": {},
   "outputs": [
    {
     "data": {
      "text/plain": [
       "[(1, 'q_46_0'), (2, 'q_47_0'), (3, 'q_48_0'), (4, 'q_49_0'), (5, 'q_50_0')]"
      ]
     },
     "execution_count": 2,
     "metadata": {},
     "output_type": "execute_result"
    }
   ],
   "source": [
    "phenotype_names = pl.read_csv(\"data/pheno/pheno_sub_0.tsv\", separator=\"\\t\", n_rows=0).drop([\"#FID\", \"IID\"]).columns\n",
    "\n",
    "idx_to_name = {i + 1: name for i, name in enumerate(phenotype_names)}\n",
    "\n",
    "sorted(idx_to_name.items())[:5]"
   ]
  },
  {
   "cell_type": "code",
   "execution_count": 3,
   "id": "9fa180c0-a7cb-439f-8f4e-063f46e4fac9",
   "metadata": {},
   "outputs": [
    {
     "name": "stdout",
     "output_type": "stream",
     "text": [
      "767 nodes 81267 edges\n",
      "73 nodes in the max clique\n"
     ]
    }
   ],
   "source": [
    "rg_df = pl.read_parquet(\"data/gathered_rg.parquet\")\n",
    "\n",
    "filtered_rg_df = (\n",
    "    rg_df\n",
    "    .filter(\n",
    "        pl.col(\"Coefficient\").eq(\"rG\") &\n",
    "        pl.col(\"Estimate\").ge(-1) &\n",
    "        pl.col(\"Estimate\").le(1) &\n",
    "        pl.col(\"SE_OLS\").le(2) & \n",
    "        pl.col(\"SE_Jackknife\").le(2)\n",
    "    )\n",
    ")\n",
    "\n",
    "phenotypes = sorted(set(filtered_rg_df.select(\"pheno1\", \"pheno2\").to_numpy().ravel().tolist()))\n",
    "pheno_to_idx = {p: i for i, p in enumerate(phenotypes)}\n",
    "\n",
    "filtered_rg_df = (\n",
    "    filtered_rg_df\n",
    "    .with_columns(\n",
    "        pl.col(\"pheno1\", \"pheno2\").map_elements(pheno_to_idx.get).name.suffix(\"_idx\")\n",
    "    )\n",
    ")\n",
    "\n",
    "edges = filtered_rg_df.select(\"pheno1_idx\", \"pheno2_idx\").unique().to_numpy().tolist()\n",
    "nodes = [pheno_to_idx[x] for x in phenotypes]\n",
    "\n",
    "G = nx.from_edgelist(edges)\n",
    "A = nx.adjacency_matrix(G, nodelist=nodes)\n",
    "\n",
    "print(G.number_of_nodes(), \"nodes\", G.number_of_edges(), \"edges\")\n",
    "\n",
    "scipy.io.mmwrite(\"data/full_graph.mtx\", A, field=\"pattern\", symmetry=\"symmetric\")\n",
    "\n",
    "command = \"PMC -f data/full_graph.mtx\"\n",
    "result = subprocess.run(shlex.split(command), capture_output=True)\n",
    "max_clique_line = result.stdout.decode().splitlines()[-1].strip()\n",
    "max_clique = [int(i) - 1 for i in max_clique_line.split(\": \")[1].split(\" \")]\n",
    "\n",
    "print(len(max_clique), \"nodes in the max clique\")\n",
    "\n",
    "for i, node1 in enumerate(max_clique):\n",
    "    for node2 in max_clique[i+1:]:\n",
    "        assert A.toarray()[node1, node2] == 1"
   ]
  },
  {
   "cell_type": "code",
   "execution_count": 4,
   "id": "420f1a19-2e2b-496a-ad37-87a153479f50",
   "metadata": {},
   "outputs": [
    {
     "name": "stdout",
     "output_type": "stream",
     "text": [
      "(73, 73)\n",
      "Min: 0.0191717 Max: 0.101884\n"
     ]
    },
    {
     "data": {
      "text/html": [
       "<div>\n",
       "<style scoped>\n",
       "    .dataframe tbody tr th:only-of-type {\n",
       "        vertical-align: middle;\n",
       "    }\n",
       "\n",
       "    .dataframe tbody tr th {\n",
       "        vertical-align: top;\n",
       "    }\n",
       "\n",
       "    .dataframe thead th {\n",
       "        text-align: right;\n",
       "    }\n",
       "</style>\n",
       "<table border=\"1\" class=\"dataframe\">\n",
       "  <thead>\n",
       "    <tr style=\"text-align: right;\">\n",
       "      <th></th>\n",
       "      <th>b_A07</th>\n",
       "      <th>b_A38</th>\n",
       "      <th>b_B01</th>\n",
       "    </tr>\n",
       "    <tr>\n",
       "      <th>pheno1</th>\n",
       "      <th></th>\n",
       "      <th></th>\n",
       "      <th></th>\n",
       "    </tr>\n",
       "  </thead>\n",
       "  <tbody>\n",
       "    <tr>\n",
       "      <th>b_A07</th>\n",
       "      <td>0.042155</td>\n",
       "      <td>0.003387</td>\n",
       "      <td>-0.005208</td>\n",
       "    </tr>\n",
       "    <tr>\n",
       "      <th>b_A38</th>\n",
       "      <td>0.003387</td>\n",
       "      <td>0.023780</td>\n",
       "      <td>0.020762</td>\n",
       "    </tr>\n",
       "    <tr>\n",
       "      <th>b_B01</th>\n",
       "      <td>-0.005208</td>\n",
       "      <td>0.020762</td>\n",
       "      <td>0.042270</td>\n",
       "    </tr>\n",
       "  </tbody>\n",
       "</table>\n",
       "</div>"
      ],
      "text/plain": [
       "           b_A07     b_A38     b_B01\n",
       "pheno1                              \n",
       "b_A07   0.042155  0.003387 -0.005208\n",
       "b_A38   0.003387  0.023780  0.020762\n",
       "b_B01  -0.005208  0.020762  0.042270"
      ]
     },
     "execution_count": 4,
     "metadata": {},
     "output_type": "execute_result"
    }
   ],
   "source": [
    "genetic_covariance_matrix = (\n",
    "    filtered_rg_df\n",
    "    .filter(pl.col(\"pheno1_idx\").is_in(max_clique) & pl.col(\"pheno2_idx\").is_in(max_clique))\n",
    "    .sort(\"SE_OLS\")\n",
    "    .select(\"pheno1\", \"pheno2\")\n",
    "    .join(rg_df.filter(pl.col(\"Coefficient\").str.contains(\"Vp\")), on=[\"pheno1\", \"pheno2\"])\n",
    "    .with_columns(\n",
    "        pheno1=pl.when(pl.col(\"Coefficient\").eq(\"V(G)/Vp_tr2\")).then(\"pheno2\").otherwise(\"pheno1\"),\n",
    "        pheno2=pl.when(pl.col(\"Coefficient\").eq(\"V(G)/Vp_tr1\")).then(\"pheno1\").otherwise(\"pheno2\"),\n",
    "    )\n",
    "    .with_columns(\n",
    "        pl.col(\"pheno1\", \"pheno2\").cast(pl.Int32).map_elements(idx_to_name.get).name.suffix(\"_name\")\n",
    "    )\n",
    "    .select(\"pheno1_name\", \"pheno2_name\", \"Estimate\")\n",
    "    .unique()\n",
    "    .pipe(\n",
    "        lambda df: pl.concat([\n",
    "            df,\n",
    "            (\n",
    "                df\n",
    "                .filter(pl.col(\"pheno1_name\").ne(pl.col(\"pheno2_name\")))\n",
    "                .select(pheno1_name=\"pheno2_name\", pheno2_name=\"pheno1_name\", Estimate=\"Estimate\")\n",
    "            )\n",
    "        ])\n",
    "    )\n",
    "    .pivot(index=\"pheno1_name\", columns=\"pheno2_name\", values=\"Estimate\")\n",
    "    .to_pandas()\n",
    "    .set_index(\"pheno1_name\")\n",
    "    .rename_axis(index=\"pheno1\")\n",
    "    .pipe(lambda df: df.loc[sorted(df.index), sorted(df.index)])\n",
    ")\n",
    "\n",
    "print(genetic_covariance_matrix.shape)\n",
    "\n",
    "print(\"Min:\", np.diag(genetic_covariance_matrix).min(), \"Max:\", np.diag(genetic_covariance_matrix).max())\n",
    "\n",
    "genetic_covariance_matrix.iloc[:3, :3]"
   ]
  },
  {
   "cell_type": "code",
   "execution_count": 5,
   "id": "0c1b3d7c-0b87-480c-ac2c-93a67cc30423",
   "metadata": {},
   "outputs": [],
   "source": [
    "genetic_covariance_matrix.pipe(lambda df: df.loc[sorted(df.index), sorted(df.index)]).to_csv(\"data/gcov/gcov_sub_0.tsv\", sep=\"\\t\")"
   ]
  }
 ],
 "metadata": {
  "kernelspec": {
   "display_name": "Python 3 (ipykernel)",
   "language": "python",
   "name": "python3"
  },
  "language_info": {
   "codemirror_mode": {
    "name": "ipython",
    "version": 3
   },
   "file_extension": ".py",
   "mimetype": "text/x-python",
   "name": "python",
   "nbconvert_exporter": "python",
   "pygments_lexer": "ipython3",
   "version": "3.11.6"
  }
 },
 "nbformat": 4,
 "nbformat_minor": 5
}
