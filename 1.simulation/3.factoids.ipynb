{
 "cells": [
  {
   "cell_type": "code",
   "execution_count": 3,
   "id": "b777e6ea-474d-4138-af90-678aeaded9b4",
   "metadata": {},
   "outputs": [
    {
     "name": "stderr",
     "output_type": "stream",
     "text": [
      "\n",
      "Attaching package: ‘arrow’\n",
      "\n",
      "\n",
      "The following object is masked from ‘package:lubridate’:\n",
      "\n",
      "    duration\n",
      "\n",
      "\n",
      "The following object is masked from ‘package:utils’:\n",
      "\n",
      "    timestamp\n",
      "\n",
      "\n"
     ]
    }
   ],
   "source": [
    "library(tidyverse)\n",
    "library(arrow)"
   ]
  },
  {
   "cell_type": "code",
   "execution_count": 4,
   "id": "0ded7ccc-3f44-4f28-823e-9260e6cdc7ec",
   "metadata": {},
   "outputs": [
    {
     "data": {
      "text/html": [
       "<style>\n",
       ".list-inline {list-style: none; margin:0; padding: 0}\n",
       ".list-inline>li {display: inline-block}\n",
       ".list-inline>li:not(:last-child)::after {content: \"\\00b7\"; padding: 0 .5ex}\n",
       "</style>\n",
       "<ol class=list-inline><li>1560000</li><li>22</li></ol>\n"
      ],
      "text/latex": [
       "\\begin{enumerate*}\n",
       "\\item 1560000\n",
       "\\item 22\n",
       "\\end{enumerate*}\n"
      ],
      "text/markdown": [
       "1. 1560000\n",
       "2. 22\n",
       "\n",
       "\n"
      ],
      "text/plain": [
       "[1] 1560000      22"
      ]
     },
     "metadata": {},
     "output_type": "display_data"
    },
    {
     "data": {
      "text/html": [
       "<table class=\"dataframe\">\n",
       "<caption>A tibble: 2 × 22</caption>\n",
       "<thead>\n",
       "\t<tr><th scope=col>phenotype</th><th scope=col>method</th><th scope=col>P</th><th scope=col>N</th><th scope=col>TP</th><th scope=col>TN</th><th scope=col>FP</th><th scope=col>FN</th><th scope=col>total</th><th scope=col>bias</th><th scope=col>⋯</th><th scope=col>sensitivity</th><th scope=col>specificity</th><th scope=col>path</th><th scope=col>i</th><th scope=col>h</th><th scope=col>s</th><th scope=col>p</th><th scope=col>missingness</th><th scope=col>variance</th><th scope=col>F1</th></tr>\n",
       "\t<tr><th scope=col>&lt;chr&gt;</th><th scope=col>&lt;chr&gt;</th><th scope=col>&lt;int&gt;</th><th scope=col>&lt;int&gt;</th><th scope=col>&lt;int&gt;</th><th scope=col>&lt;int&gt;</th><th scope=col>&lt;int&gt;</th><th scope=col>&lt;int&gt;</th><th scope=col>&lt;int&gt;</th><th scope=col>&lt;dbl&gt;</th><th scope=col>⋯</th><th scope=col>&lt;dbl&gt;</th><th scope=col>&lt;dbl&gt;</th><th scope=col>&lt;chr&gt;</th><th scope=col>&lt;dbl&gt;</th><th scope=col>&lt;dbl&gt;</th><th scope=col>&lt;dbl&gt;</th><th scope=col>&lt;dbl&gt;</th><th scope=col>&lt;dbl&gt;</th><th scope=col>&lt;dbl&gt;</th><th scope=col>&lt;dbl&gt;</th></tr>\n",
       "</thead>\n",
       "<tbody>\n",
       "\t<tr><td>Trait_14</td><td>liability</td><td>593</td><td>1491</td><td>106</td><td>1423</td><td>68</td><td>487</td><td>2084</td><td> 0.0007791386</td><td>⋯</td><td>0.1787521</td><td>0.9543930</td><td>data/simulations/sim_29_h_0.1_s_0.5_p_0.7/summary/liability.tsv</td><td>29</td><td>0.1</td><td>0.5</td><td>0.7</td><td>0</td><td>0</td><td>0.2764016</td></tr>\n",
       "\t<tr><td>Trait_44</td><td>liability</td><td>992</td><td>1516</td><td>410</td><td>1456</td><td>60</td><td>582</td><td>2508</td><td>-0.0004492340</td><td>⋯</td><td>0.4133065</td><td>0.9604222</td><td>data/simulations/sim_29_h_0.1_s_0.5_p_0.7/summary/liability.tsv</td><td>29</td><td>0.1</td><td>0.5</td><td>0.7</td><td>0</td><td>0</td><td>0.5608755</td></tr>\n",
       "</tbody>\n",
       "</table>\n"
      ],
      "text/latex": [
       "A tibble: 2 × 22\n",
       "\\begin{tabular}{lllllllllllllllllllll}\n",
       " phenotype & method & P & N & TP & TN & FP & FN & total & bias & ⋯ & sensitivity & specificity & path & i & h & s & p & missingness & variance & F1\\\\\n",
       " <chr> & <chr> & <int> & <int> & <int> & <int> & <int> & <int> & <int> & <dbl> & ⋯ & <dbl> & <dbl> & <chr> & <dbl> & <dbl> & <dbl> & <dbl> & <dbl> & <dbl> & <dbl>\\\\\n",
       "\\hline\n",
       "\t Trait\\_14 & liability & 593 & 1491 & 106 & 1423 & 68 & 487 & 2084 &  0.0007791386 & ⋯ & 0.1787521 & 0.9543930 & data/simulations/sim\\_29\\_h\\_0.1\\_s\\_0.5\\_p\\_0.7/summary/liability.tsv & 29 & 0.1 & 0.5 & 0.7 & 0 & 0 & 0.2764016\\\\\n",
       "\t Trait\\_44 & liability & 992 & 1516 & 410 & 1456 & 60 & 582 & 2508 & -0.0004492340 & ⋯ & 0.4133065 & 0.9604222 & data/simulations/sim\\_29\\_h\\_0.1\\_s\\_0.5\\_p\\_0.7/summary/liability.tsv & 29 & 0.1 & 0.5 & 0.7 & 0 & 0 & 0.5608755\\\\\n",
       "\\end{tabular}\n"
      ],
      "text/markdown": [
       "\n",
       "A tibble: 2 × 22\n",
       "\n",
       "| phenotype &lt;chr&gt; | method &lt;chr&gt; | P &lt;int&gt; | N &lt;int&gt; | TP &lt;int&gt; | TN &lt;int&gt; | FP &lt;int&gt; | FN &lt;int&gt; | total &lt;int&gt; | bias &lt;dbl&gt; | ⋯ ⋯ | sensitivity &lt;dbl&gt; | specificity &lt;dbl&gt; | path &lt;chr&gt; | i &lt;dbl&gt; | h &lt;dbl&gt; | s &lt;dbl&gt; | p &lt;dbl&gt; | missingness &lt;dbl&gt; | variance &lt;dbl&gt; | F1 &lt;dbl&gt; |\n",
       "|---|---|---|---|---|---|---|---|---|---|---|---|---|---|---|---|---|---|---|---|---|\n",
       "| Trait_14 | liability | 593 | 1491 | 106 | 1423 | 68 | 487 | 2084 |  0.0007791386 | ⋯ | 0.1787521 | 0.9543930 | data/simulations/sim_29_h_0.1_s_0.5_p_0.7/summary/liability.tsv | 29 | 0.1 | 0.5 | 0.7 | 0 | 0 | 0.2764016 |\n",
       "| Trait_44 | liability | 992 | 1516 | 410 | 1456 | 60 | 582 | 2508 | -0.0004492340 | ⋯ | 0.4133065 | 0.9604222 | data/simulations/sim_29_h_0.1_s_0.5_p_0.7/summary/liability.tsv | 29 | 0.1 | 0.5 | 0.7 | 0 | 0 | 0.5608755 |\n",
       "\n"
      ],
      "text/plain": [
       "  phenotype method    P   N    TP  TN   FP FN  total bias          ⋯\n",
       "1 Trait_14  liability 593 1491 106 1423 68 487 2084   0.0007791386 ⋯\n",
       "2 Trait_44  liability 992 1516 410 1456 60 582 2508  -0.0004492340 ⋯\n",
       "  sensitivity specificity\n",
       "1 0.1787521   0.9543930  \n",
       "2 0.4133065   0.9604222  \n",
       "  path                                                            i  h   s  \n",
       "1 data/simulations/sim_29_h_0.1_s_0.5_p_0.7/summary/liability.tsv 29 0.1 0.5\n",
       "2 data/simulations/sim_29_h_0.1_s_0.5_p_0.7/summary/liability.tsv 29 0.1 0.5\n",
       "  p   missingness variance F1       \n",
       "1 0.7 0           0        0.2764016\n",
       "2 0.7 0           0        0.5608755"
      ]
     },
     "metadata": {},
     "output_type": "display_data"
    }
   ],
   "source": [
    "full_df <- read_tsv_arrow(\"data/full_summary.tsv.zst\") %>%\n",
    "    mutate(\n",
    "        i = str_extract(path, \"(?<=sim_)[0-9]+\"),\n",
    "        h = str_extract(path, \"(?<=h_)[\\\\.0-9]+\"),\n",
    "        s = str_extract(path, \"(?<=s_)[\\\\.0-9]+\"),\n",
    "        p = str_extract(path, \"(?<=p_)[\\\\.0-9]+\"),\n",
    "        across(c(i, h, s, p), as.double),\n",
    "    ) %>%\n",
    "    distinct %>%\n",
    "    mutate(\n",
    "        missingness = if_else(\n",
    "            str_detect(method, \"m_[0-9]+\"), \n",
    "            str_extract(method, \"(?<=m_)([0-9\\\\.]+)\") %>% as.double, \n",
    "            0\n",
    "        ),\n",
    "        variance = if_else(\n",
    "            str_detect(method, \"v_[0-9]+\"),\n",
    "            str_extract(method, \"(?<=v_)([0-9\\\\.]+)\") %>% as.double,\n",
    "            0\n",
    "        ),\n",
    "        F1 = 2 * TP / (2 * TP + FP + FN),\n",
    "    )\n",
    "\n",
    "full_df %>% dim\n",
    "\n",
    "full_df %>% head(2)"
   ]
  },
  {
   "cell_type": "code",
   "execution_count": 23,
   "id": "921e0baf-9615-4192-a7de-e6a15adcf127",
   "metadata": {},
   "outputs": [
    {
     "data": {
      "text/html": [
       "<table class=\"dataframe\">\n",
       "<caption>A tibble: 7 × 10</caption>\n",
       "<thead>\n",
       "\t<tr><th scope=col>method</th><th scope=col>TP</th><th scope=col>FP</th><th scope=col>TN</th><th scope=col>FN</th><th scope=col>sensitivity</th><th scope=col>specificity</th><th scope=col>precision</th><th scope=col>F1</th><th scope=col>AUROC</th></tr>\n",
       "\t<tr><th scope=col>&lt;fct&gt;</th><th scope=col>&lt;int&gt;</th><th scope=col>&lt;int&gt;</th><th scope=col>&lt;int&gt;</th><th scope=col>&lt;int&gt;</th><th scope=col>&lt;dbl&gt;</th><th scope=col>&lt;dbl&gt;</th><th scope=col>&lt;dbl&gt;</th><th scope=col>&lt;dbl&gt;</th><th scope=col>&lt;dbl&gt;</th></tr>\n",
       "</thead>\n",
       "<tbody>\n",
       "\t<tr><td>Genetic component</td><td>4726856</td><td>     0</td><td>7461201</td><td>      0</td><td>1.0000000</td><td>1.0000000</td><td>1.0000000</td><td>1.0000000</td><td>1.0000000</td></tr>\n",
       "\t<tr><td>Optimal linear   </td><td>3299208</td><td>281133</td><td>7180068</td><td>1427648</td><td>0.7171336</td><td>0.9648308</td><td>0.9214787</td><td>0.8119919</td><td>0.9298787</td></tr>\n",
       "\t<tr><td>MaxGCP (optimal) </td><td>3139413</td><td>286375</td><td>7174825</td><td>1587443</td><td>0.6858882</td><td>0.9637272</td><td>0.9164061</td><td>0.7899972</td><td>0.9114712</td></tr>\n",
       "\t<tr><td>MaxGCP (noisy)   </td><td>2205775</td><td>419023</td><td>7042178</td><td>2521078</td><td>0.4695948</td><td>0.9441454</td><td>0.8403599</td><td>0.6045488</td><td>0.8158587</td></tr>\n",
       "\t<tr><td>Naive            </td><td>1361350</td><td>335394</td><td>7125807</td><td>3365505</td><td>0.2781072</td><td>0.9551935</td><td>0.8023308</td><td>0.4120478</td><td>0.7224196</td></tr>\n",
       "\t<tr><td>Binary           </td><td>1815400</td><td>315041</td><td>7146160</td><td>2911455</td><td>0.3728173</td><td>0.9579090</td><td>0.8521240</td><td>0.5175898</td><td>0.7896107</td></tr>\n",
       "\t<tr><td>Liability        </td><td>2697855</td><td>253655</td><td>7207545</td><td>2028999</td><td>0.5511655</td><td>0.9640523</td><td>0.9140592</td><td>0.6840696</td><td>0.8947844</td></tr>\n",
       "</tbody>\n",
       "</table>\n"
      ],
      "text/latex": [
       "A tibble: 7 × 10\n",
       "\\begin{tabular}{llllllllll}\n",
       " method & TP & FP & TN & FN & sensitivity & specificity & precision & F1 & AUROC\\\\\n",
       " <fct> & <int> & <int> & <int> & <int> & <dbl> & <dbl> & <dbl> & <dbl> & <dbl>\\\\\n",
       "\\hline\n",
       "\t Genetic component & 4726856 &      0 & 7461201 &       0 & 1.0000000 & 1.0000000 & 1.0000000 & 1.0000000 & 1.0000000\\\\\n",
       "\t Optimal linear    & 3299208 & 281133 & 7180068 & 1427648 & 0.7171336 & 0.9648308 & 0.9214787 & 0.8119919 & 0.9298787\\\\\n",
       "\t MaxGCP (optimal)  & 3139413 & 286375 & 7174825 & 1587443 & 0.6858882 & 0.9637272 & 0.9164061 & 0.7899972 & 0.9114712\\\\\n",
       "\t MaxGCP (noisy)    & 2205775 & 419023 & 7042178 & 2521078 & 0.4695948 & 0.9441454 & 0.8403599 & 0.6045488 & 0.8158587\\\\\n",
       "\t Naive             & 1361350 & 335394 & 7125807 & 3365505 & 0.2781072 & 0.9551935 & 0.8023308 & 0.4120478 & 0.7224196\\\\\n",
       "\t Binary            & 1815400 & 315041 & 7146160 & 2911455 & 0.3728173 & 0.9579090 & 0.8521240 & 0.5175898 & 0.7896107\\\\\n",
       "\t Liability         & 2697855 & 253655 & 7207545 & 2028999 & 0.5511655 & 0.9640523 & 0.9140592 & 0.6840696 & 0.8947844\\\\\n",
       "\\end{tabular}\n"
      ],
      "text/markdown": [
       "\n",
       "A tibble: 7 × 10\n",
       "\n",
       "| method &lt;fct&gt; | TP &lt;int&gt; | FP &lt;int&gt; | TN &lt;int&gt; | FN &lt;int&gt; | sensitivity &lt;dbl&gt; | specificity &lt;dbl&gt; | precision &lt;dbl&gt; | F1 &lt;dbl&gt; | AUROC &lt;dbl&gt; |\n",
       "|---|---|---|---|---|---|---|---|---|---|\n",
       "| Genetic component | 4726856 |      0 | 7461201 |       0 | 1.0000000 | 1.0000000 | 1.0000000 | 1.0000000 | 1.0000000 |\n",
       "| Optimal linear    | 3299208 | 281133 | 7180068 | 1427648 | 0.7171336 | 0.9648308 | 0.9214787 | 0.8119919 | 0.9298787 |\n",
       "| MaxGCP (optimal)  | 3139413 | 286375 | 7174825 | 1587443 | 0.6858882 | 0.9637272 | 0.9164061 | 0.7899972 | 0.9114712 |\n",
       "| MaxGCP (noisy)    | 2205775 | 419023 | 7042178 | 2521078 | 0.4695948 | 0.9441454 | 0.8403599 | 0.6045488 | 0.8158587 |\n",
       "| Naive             | 1361350 | 335394 | 7125807 | 3365505 | 0.2781072 | 0.9551935 | 0.8023308 | 0.4120478 | 0.7224196 |\n",
       "| Binary            | 1815400 | 315041 | 7146160 | 2911455 | 0.3728173 | 0.9579090 | 0.8521240 | 0.5175898 | 0.7896107 |\n",
       "| Liability         | 2697855 | 253655 | 7207545 | 2028999 | 0.5511655 | 0.9640523 | 0.9140592 | 0.6840696 | 0.8947844 |\n",
       "\n"
      ],
      "text/plain": [
       "  method            TP      FP     TN      FN      sensitivity specificity\n",
       "1 Genetic component 4726856      0 7461201       0 1.0000000   1.0000000  \n",
       "2 Optimal linear    3299208 281133 7180068 1427648 0.7171336   0.9648308  \n",
       "3 MaxGCP (optimal)  3139413 286375 7174825 1587443 0.6858882   0.9637272  \n",
       "4 MaxGCP (noisy)    2205775 419023 7042178 2521078 0.4695948   0.9441454  \n",
       "5 Naive             1361350 335394 7125807 3365505 0.2781072   0.9551935  \n",
       "6 Binary            1815400 315041 7146160 2911455 0.3728173   0.9579090  \n",
       "7 Liability         2697855 253655 7207545 2028999 0.5511655   0.9640523  \n",
       "  precision F1        AUROC    \n",
       "1 1.0000000 1.0000000 1.0000000\n",
       "2 0.9214787 0.8119919 0.9298787\n",
       "3 0.9164061 0.7899972 0.9114712\n",
       "4 0.8403599 0.6045488 0.8158587\n",
       "5 0.8023308 0.4120478 0.7224196\n",
       "6 0.8521240 0.5175898 0.7896107\n",
       "7 0.9140592 0.6840696 0.8947844"
      ]
     },
     "metadata": {},
     "output_type": "display_data"
    }
   ],
   "source": [
    "summary_df <- full_df %>%\n",
    "    mutate(\n",
    "        method = method %>%\n",
    "            recode_factor(\n",
    "                liability = \"Liability\",\n",
    "                `binary_m_0.0` = \"Binary\",\n",
    "                `binary_m_0.25` = \"Naive\",\n",
    "                `maxgcp_m_0.25_v_0.05` = \"MaxGCP (noisy)\",\n",
    "                `maxgcp_m_0.25_v_0.0` = \"MaxGCP (optimal)\",\n",
    "                optimal = \"Optimal linear\",\n",
    "                g = \"Genetic component\",\n",
    "            ),\n",
    "        dashed = method %in% c(\"Liability\", \"Binary\", \"Optimal linear\", \"Genetic component\"),\n",
    "    ) %>%\n",
    "    filter(!str_detect(method, \"_\")) %>%\n",
    "    filter(h == 0.5, s == 0.9, p == 0.0) %>%\n",
    "    distinct %>%\n",
    "    select(-path, -dashed, -bias, -rmse, -h, -s, -p, -missingness, -variance) %>%\n",
    "    group_by(method) %>%\n",
    "    summarize(\n",
    "        across(c(P, N, TP, TN, FP, FN, total), sum),\n",
    "        across(c(AUROC, sensitivity, specificity, F1), median)\n",
    "    ) %>%\n",
    "    mutate(precision = TP / (TP + FP)) %>%\n",
    "    select(method, TP, FP, TN, FN, sensitivity, specificity, precision, F1, AUROC) %>%\n",
    "    arrange(desc(method))\n",
    "\n",
    "summary_df"
   ]
  },
  {
   "cell_type": "code",
   "execution_count": 25,
   "id": "be86927e-bc5f-49e7-aee6-3f593fc723b6",
   "metadata": {},
   "outputs": [
    {
     "data": {
      "text/plain": [
       "\n",
       "\\begin{tabular}{l|r|r|r|r|r|r|r|r|r}\n",
       "\\hline\n",
       "method & TP & FP & TN & FN & sensitivity & specificity & precision & F1 & AUROC\\\\\n",
       "\\hline\n",
       "Genetic component & 4726856 & 0 & 7461201 & 0 & 1.00 & 1.00 & 1.00 & 1.00 & 1.00\\\\\n",
       "\\hline\n",
       "Optimal linear & 3299208 & 281133 & 7180068 & 1427648 & 0.72 & 0.96 & 0.92 & 0.81 & 0.93\\\\\n",
       "\\hline\n",
       "MaxGCP (optimal) & 3139413 & 286375 & 7174825 & 1587443 & 0.69 & 0.96 & 0.92 & 0.79 & 0.91\\\\\n",
       "\\hline\n",
       "MaxGCP (noisy) & 2205775 & 419023 & 7042178 & 2521078 & 0.47 & 0.94 & 0.84 & 0.60 & 0.82\\\\\n",
       "\\hline\n",
       "Naive & 1361350 & 335394 & 7125807 & 3365505 & 0.28 & 0.96 & 0.80 & 0.41 & 0.72\\\\\n",
       "\\hline\n",
       "Binary & 1815400 & 315041 & 7146160 & 2911455 & 0.37 & 0.96 & 0.85 & 0.52 & 0.79\\\\\n",
       "\\hline\n",
       "Liability & 2697855 & 253655 & 7207545 & 2028999 & 0.55 & 0.96 & 0.91 & 0.68 & 0.89\\\\\n",
       "\\hline\n",
       "\\end{tabular}"
      ]
     },
     "metadata": {},
     "output_type": "display_data"
    }
   ],
   "source": [
    "knitr::kable(summary_df, format = \"latex\", digits = 2)"
   ]
  }
 ],
 "metadata": {
  "kernelspec": {
   "display_name": "R",
   "language": "R",
   "name": "ir"
  },
  "language_info": {
   "codemirror_mode": "r",
   "file_extension": ".r",
   "mimetype": "text/x-r-source",
   "name": "R",
   "pygments_lexer": "r",
   "version": "4.3.2"
  }
 },
 "nbformat": 4,
 "nbformat_minor": 5
}
